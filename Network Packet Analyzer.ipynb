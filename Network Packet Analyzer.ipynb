{
 "cells": [
  {
   "cell_type": "code",
   "execution_count": null,
   "id": "6739b31d-3fcb-48ea-bd7d-02025c5c2fc4",
   "metadata": {},
   "outputs": [],
   "source": [
    "from scapy.all import sniff, IP, TCP, UDP\n",
    "\n",
    "def packet_callback(packet):\n",
    "    if IP in packet:\n",
    "        ip_src = packet[IP].src\n",
    "        ip_dst = packet[IP].dst\n",
    "        protocol = packet[IP].proto\n",
    "\n",
    "        if protocol == 6:\n",
    "            proto_name = \"TCP\"\n",
    "        elif protocol == 17:\n",
    "            proto_name = \"UDP\"\n",
    "        else:\n",
    "            proto_name = \"Other\"\n",
    "\n",
    "        print(f\"Source IP: {ip_src} -> Destination IP: {ip_dst} | Protocol: {proto_name}\")\n",
    "\n",
    "        if packet.haslayer(TCP) or packet.haslayer(UDP):\n",
    "            payload = packet[TCP].payload if packet.haslayer(TCP) else packet[UDP].payload\n",
    "            print(f\"Payload: {payload}\")\n",
    "\n",
    "# Start sniffing\n",
    "sniff(prn=packet_callback, store=0)\n",
    "\n",
    "sudo python packet_sniffer.py"
   ]
  },
  {
   "cell_type": "code",
   "execution_count": null,
   "id": "0c0b46bd-abba-46ab-8375-dc258d4362b0",
   "metadata": {},
   "outputs": [],
   "source": []
  }
 ],
 "metadata": {
  "kernelspec": {
   "display_name": "Python 3 (ipykernel)",
   "language": "python",
   "name": "python3"
  },
  "language_info": {
   "codemirror_mode": {
    "name": "ipython",
    "version": 3
   },
   "file_extension": ".py",
   "mimetype": "text/x-python",
   "name": "python",
   "nbconvert_exporter": "python",
   "pygments_lexer": "ipython3",
   "version": "3.11.5"
  }
 },
 "nbformat": 4,
 "nbformat_minor": 5
}
